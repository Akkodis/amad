{
 "cells": [
  {
   "attachments": {},
   "cell_type": "markdown",
   "metadata": {},
   "source": [
    "# Drag calculation example"
   ]
  },
  {
   "cell_type": "code",
   "execution_count": null,
   "metadata": {},
   "outputs": [],
   "source": [
    "from amad.disciplines.aerodynamics.systems.drag import Drag"
   ]
  },
  {
   "cell_type": "code",
   "execution_count": null,
   "metadata": {},
   "outputs": [],
   "source": [
    "syst_drag = Drag('syst_drag')\n",
    "syst_drag.S = 14.1542\n",
    "syst_drag.V = 57.106\n",
    "syst_drag.AR = 12.1049\n",
    "syst_drag.V_f_fuse = 0.0619038\n",
    "syst_drag.C_L = 0.290128\n",
    "syst_drag.run_once()\n",
    "# TODO: avoid print\n",
    "print('Total Drag Force:', syst_drag.total.force)"
   ]
  }
 ],
 "metadata": {
  "kernelspec": {
   "display_name": "amad",
   "language": "python",
   "name": "python3"
  },
  "language_info": {
   "codemirror_mode": {
    "name": "ipython",
    "version": 3
   },
   "file_extension": ".py",
   "mimetype": "text/x-python",
   "name": "python",
   "nbconvert_exporter": "python",
   "pygments_lexer": "ipython3",
   "version": "3.11.4"
  },
  "orig_nbformat": 4
 },
 "nbformat": 4,
 "nbformat_minor": 2
}
