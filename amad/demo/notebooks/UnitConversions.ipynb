{
 "cells": [
  {
   "attachments": {},
   "cell_type": "markdown",
   "metadata": {},
   "source": [
    "# Unit Conversion Example"
   ]
  },
  {
   "cell_type": "code",
   "execution_count": null,
   "metadata": {},
   "outputs": [],
   "source": [
    "from amad.tools.unit_conversion import *"
   ]
  },
  {
   "cell_type": "code",
   "execution_count": null,
   "metadata": {},
   "outputs": [],
   "source": [
    "m = 1.\n",
    "print(\"Running tests...\")\n",
    "print(f\"{m}lb is {lb2kg(m)}kg\")\n",
    "print(f\"{m}lb is {lb2kg(int(m))}kg\")\n",
    "print(f\"{m}kg is {kg2lb(m)}lb\")\n",
    "print(f\"{m}kg is {kg2lb(int(m))}lb\")\n"
   ]
  }
 ],
 "metadata": {
  "kernelspec": {
   "display_name": "amad",
   "language": "python",
   "name": "python3"
  },
  "language_info": {
   "codemirror_mode": {
    "name": "ipython",
    "version": 3
   },
   "file_extension": ".py",
   "mimetype": "text/x-python",
   "name": "python",
   "nbconvert_exporter": "python",
   "pygments_lexer": "ipython3",
   "version": "3.11.4"
  },
  "orig_nbformat": 4
 },
 "nbformat": 4,
 "nbformat_minor": 2
}
