{
 "cells": [
  {
   "attachments": {},
   "cell_type": "markdown",
   "metadata": {},
   "source": [
    "# Deceleration example"
   ]
  },
  {
   "cell_type": "code",
   "execution_count": null,
   "metadata": {},
   "outputs": [],
   "source": [
    "from cosapp.drivers import RungeKutta, NonLinearSolver\n",
    "from cosapp.recorders import DataFrameRecorder\n",
    "import amad.disciplines.aerodynamics.tools.createAeroInterpolationCSV as aeroInterp  # Tool to create the function to Interpolate.\n",
    "from amad.disciplines.performance.systems.Deceleration import Decelerate\n",
    "import numpy as np"
   ]
  },
  {
   "cell_type": "code",
   "execution_count": null,
   "metadata": {},
   "outputs": [],
   "source": [
    "\"\"\"Aerodynamic inputs\"\"\"\n",
    "# Directory to the Aero results in CSV in order to build the interpolation functions.\n",
    "Aero_CSV = r'../../disciplines/aerodynamics/tools/Results/aero_results.csv'\n",
    "\n",
    "# Ranges to create CL and CD interpolation functions from AVL Aero Results (CSV file).\n",
    "# REMARK: To maintain units, array and split format to the values must correlate to the CSV file results.\n",
    "alpha_list = list(np.arange(-6.0, 10.0, 2))  # unit='deg', desc='Range of AOA to create functions')\n",
    "mach_list = list(np.arange(0.0, 0.84, 0.04))  # unit='', desc='Range of Mach to create functions')\n",
    "altitude_list = list(np.arange(0.0, 13000, 500))  # unit='m', desc='Range of altitude to create functions')\n",
    "\n",
    "# Creation of functions for the aerodynamic coefficients interpolation.\n",
    "CLAeroIt = aeroInterp.CL_Interpolation_function(alpha_list, mach_list, altitude_list, Aero_CSV)\n",
    "CDAeroIt = aeroInterp.CD_Interpolation_function(alpha_list, mach_list, altitude_list, Aero_CSV)\n",
    "DAeroIt = aeroInterp.Drag_Interpolation_function(alpha_list, mach_list, altitude_list, Aero_CSV)\n",
    "\n",
    "s1 = Decelerate(name='s1')\n",
    "s1.CLAeroIt = CLAeroIt\n",
    "s1.CDAeroIt = CDAeroIt\n",
    "s1.DAeroIt = DAeroIt\n",
    "###\n",
    "driver = s1.add_driver(RungeKutta())\n",
    "solver = driver.add_child(NonLinearSolver('solver'))\n",
    "driver.time_interval = (0, 10000)\n",
    "driver.dt = 10\n",
    "Data_to_record = [\n",
    "    'Altitude', 'CD', 'CL',\n",
    "    'Distance', 'Drag', 'Lift',\n",
    "    'Mach', 'RC', 'TAS', 'CAS',\n",
    "    'THR', 'alpha', 'gamma',\n",
    "    'mass', 'out_p.fuel_mass', 'time']\n",
    "\n",
    "# Add a recorder to capture time evolution in a dataframe\n",
    "driver.add_recorder(\n",
    "    DataFrameRecorder(\n",
    "        includes = Data_to_record,\n",
    "    ), period=20\n",
    ")\n",
    "\n",
    "# Initial conditions\n",
    "p_0 = np.array([0.0, 0.0, 12000.0])  # Position [m]\n",
    "CS_0 = np.array([0.0])  # Fuel consumption [kg/s]\n",
    "v_0 = np.array([230.0, 0.0, 6.0])  # TAS\n",
    "m_0 = np.array([68000])  # mass\n",
    "\n",
    "# Define a simulation scenario\n",
    "driver.set_scenario(\n",
    "    init = {'CS': CS_0, 'in_p.position': p_0, 'in_p.TAS_speed': v_0, 'm0': m_0},\n",
    "    values = {\n",
    "        'g': 9.81,  # [m/s^2]\n",
    "        'S': 124,  # [m^2]\n",
    "        'n_eng': 2,\n",
    "        'Iso_Mach': 0.75\n",
    "    },\n",
    ")\n",
    "\n",
    "s1.run_drivers()\n",
    "data = driver.recorder.export_data()\n"
   ]
  }
 ],
 "metadata": {
  "kernelspec": {
   "display_name": "amad",
   "language": "python",
   "name": "python3"
  },
  "language_info": {
   "codemirror_mode": {
    "name": "ipython",
    "version": 3
   },
   "file_extension": ".py",
   "mimetype": "text/x-python",
   "name": "python",
   "nbconvert_exporter": "python",
   "pygments_lexer": "ipython3",
   "version": "3.11.4"
  },
  "orig_nbformat": 4
 },
 "nbformat": 4,
 "nbformat_minor": 2
}
