{
 "cells": [
  {
   "attachments": {},
   "cell_type": "markdown",
   "metadata": {},
   "source": [
    "# Wing Positioning Example"
   ]
  },
  {
   "cell_type": "code",
   "execution_count": null,
   "metadata": {},
   "outputs": [],
   "source": [
    "from amad.disciplines.design.resources.aircraft_geometry_library import ac_narrow_body_long as airplane_geom\n",
    "from amad.disciplines.design.systems.wingPosition import WingPosition"
   ]
  },
  {
   "cell_type": "code",
   "execution_count": null,
   "metadata": {},
   "outputs": [],
   "source": [
    "wp = WingPosition('wp')\n",
    "wp.geom_in.asb_aircraft_geometry = airplane_geom()\n",
    "wp.x_fuse = 38.01\n",
    "\n",
    "wp.run_once()\n",
    "print(f'aero center = {wp.x_aerodynamic_center[0][0]:.5f}, old wing LE = 14.4 new wing LE = {wp.x_wing_le_out:.1f}')\n"
   ]
  }
 ],
 "metadata": {
  "kernelspec": {
   "display_name": "amad",
   "language": "python",
   "name": "python3"
  },
  "language_info": {
   "codemirror_mode": {
    "name": "ipython",
    "version": 3
   },
   "file_extension": ".py",
   "mimetype": "text/x-python",
   "name": "python",
   "nbconvert_exporter": "python",
   "pygments_lexer": "ipython3",
   "version": "3.11.4"
  },
  "orig_nbformat": 4
 },
 "nbformat": 4,
 "nbformat_minor": 2
}
