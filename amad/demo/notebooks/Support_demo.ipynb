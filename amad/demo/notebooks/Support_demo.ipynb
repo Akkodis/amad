{
 "cells": [
  {
   "attachments": {},
   "cell_type": "markdown",
   "metadata": {},
   "source": [
    "# Introduction AMAD functions with exampes"
   ]
  },
  {
   "attachments": {},
   "cell_type": "markdown",
   "metadata": {},
   "source": [
    "This notebook shows introductional examples for AMAD support functions."
   ]
  },
  {
   "attachments": {},
   "cell_type": "markdown",
   "metadata": {},
   "source": [
    "# Atmospheric Model"
   ]
  },
  {
   "attachments": {},
   "cell_type": "markdown",
   "metadata": {},
   "source": [
    "This first example shows the application of the Atmospheric model used for ISA and dISA condition.\n",
    "This is an extension of ADRpy Atmosphere class with Bluesky speed conversions."
   ]
  },
  {
   "cell_type": "code",
   "execution_count": null,
   "metadata": {},
   "outputs": [],
   "source": [
    "from amad.tools.atmosBADA import AtmosphereAMAD\n",
    "import amad.tools.unit_conversion as uconv\n",
    "import numpy as np\n",
    "import matplotlib.pyplot as plt\n",
    "import itertools\n",
    "import pandas as pd\n",
    "import matplotlib.pyplot as plt\n",
    "import matplotlib.colors as mcolors\n",
    "from itertools import cycle"
   ]
  },
  {
   "cell_type": "code",
   "execution_count": null,
   "metadata": {},
   "outputs": [],
   "source": [
    "disa = 0.\n",
    "atmos = AtmosphereAMAD(offset_deg=disa)\n",
    "atmos2 = AtmosphereAMAD(offset_deg=40.)\n",
    "\n",
    "alt = np.arange(-2000., 124000., 2000.)\n",
    "\n",
    "# alt_m = alt / 3.28084\n",
    "alt_m = uconv.ft2m(alt)\n",
    "temp_C_isa = []\n",
    "temp_C_disa = []\n",
    "rho_isa = []\n",
    "rho_disa = []\n",
    "p_isa = []\n",
    "p_disa = []\n",
    "for elm in alt_m:\n",
    "    temp_C_isa.append(uconv.k2degc(atmos.airtemp_k(alt=elm)))\n",
    "    temp_C_disa.append(uconv.k2degc(atmos2.airtemp_k(alt=elm)))\n",
    "    rho_isa.append(atmos.airdens_kgpm3(alt=elm))\n",
    "    rho_disa.append(atmos2.airdens_kgpm3(alt=elm))\n",
    "    p_isa.append(atmos.airpress_pa(alt=elm))\n",
    "    p_disa.append(atmos2.airpress_pa(alt=elm))"
   ]
  },
  {
   "cell_type": "code",
   "execution_count": null,
   "metadata": {},
   "outputs": [],
   "source": [
    "fig, axs =  plt.subplots(nrows=1, ncols=3, figsize=(24, 6))\n",
    "\n",
    "axs[0].plot(temp_C_isa, alt, 'b', label='ISA')\n",
    "axs[0].plot(temp_C_disa, alt, 'r', label='delta ISA+40')\n",
    "axs[0].set(xlabel='temperatrure [DEG C]', ylabel='Altitude [ft]',\n",
    "       title='ISA temperature BADA model')\n",
    "axs[0].grid()\n",
    "axs[0].legend()\n",
    "\n",
    "axs[1].plot(rho_isa, alt, 'b', label='ISA')\n",
    "axs[1].plot(rho_disa, alt, 'r', label='delta ISA+40')\n",
    "axs[1].set(xlabel='Density [kg/m^3]', ylabel='Altitude [ft]',\n",
    "       title='ISA Density BADA model')\n",
    "axs[1].grid()\n",
    "axs[1].legend()\n",
    "\n",
    "axs[2].plot(p_isa, alt, 'b', label='ISA')\n",
    "axs[2].plot(p_disa, alt, 'r', label='delta ISA+40')\n",
    "axs[2].set(xlabel='pressure [Pa]', ylabel='Altitude [ft]',\n",
    "       title='ISA Pressure BADA model')\n",
    "axs[2].grid()\n",
    "axs[2].legend()\n",
    "\n",
    "# fig.savefig(\"ADRpy.png\")\n",
    "plt.show()\n"
   ]
  },
  {
   "attachments": {},
   "cell_type": "markdown",
   "metadata": {},
   "source": [
    "## Speed Conversion methods (Mach, CAS, TAS Speed table)\n",
    "This example shows the application of the speed conversion calculation methods."
   ]
  },
  {
   "cell_type": "code",
   "execution_count": null,
   "metadata": {},
   "outputs": [],
   "source": [
    "dict_params = {\n",
    "    'np_alt_ft': np.arange(0., 45000., 2000.),\n",
    "    'np_CAS_kt': np.arange(150., 375., 25.),\n",
    "    'np_Mach': np.arange(0.1, 1.0, 0.1),\n",
    "    'np_disa': np.array([0.]),\n",
    "    'np_tas_from_mach': np.array([0.]),\n",
    "    'np_tas_from_cas': np.array([0.])\n",
    "}"
   ]
  },
  {
   "cell_type": "code",
   "execution_count": null,
   "metadata": {},
   "outputs": [],
   "source": [
    "def Params_DoE(axes: dict) -> pd.DataFrame:\n",
    "    \"\"\"Simple DoE from 1D samples in all axis directions\"\"\"\n",
    "    return pd.DataFrame(list(itertools.product(*axes.values())),\n",
    "    columns = list(axes.keys()))\n",
    "    \n",
    "df_doe = Params_DoE(dict_params)"
   ]
  },
  {
   "cell_type": "code",
   "execution_count": null,
   "metadata": {},
   "outputs": [],
   "source": [
    "for index, row in df_doe.iterrows():\n",
    "    alt_m_elm = uconv.ft2m(row[0])\n",
    "    CAS_ms_elm = uconv.kt2ms(row[1])\n",
    "    mach_elm = row[2]\n",
    "    disa_elm =  row[3]\n",
    "    atmos = AtmosphereAMAD(offset_deg=disa_elm)\n",
    "    df_doe.at[index, 'np_tas_from_mach'] =  uconv.ms2kt(atmos.mach2tas(mach_elm, alt_m_elm))\n",
    "    df_doe.at[index, 'np_tas_from_cas'] =  uconv.ms2kt(atmos.cas2tas(CAS_ms_elm, alt_m_elm))"
   ]
  },
  {
   "cell_type": "code",
   "execution_count": null,
   "metadata": {},
   "outputs": [],
   "source": [
    "plt.figure()\n",
    "#df_doe_Mach = df_doe[abs(df_doe['np_Mach'] - Mach) < 0.001]\n",
    "list_color_cycle = cycle(mcolors.TABLEAU_COLORS)\n",
    "\n",
    "for elm_mach in sorted(list(set(df_doe['np_Mach']))):\n",
    "    color = next(list_color_cycle)\n",
    "    df_doe_elm = df_doe[df_doe['np_Mach'] == elm_mach]\n",
    "    plt.plot(df_doe_elm['np_tas_from_mach'], df_doe_elm['np_alt_ft'], color='blue', label='Mach='+str(elm_mach))\n",
    "    text = '%.2f' %elm_mach\n",
    "    id = df_doe_elm.last_valid_index()\n",
    "    plt.text(df_doe_elm.at[id, 'np_tas_from_mach'], df_doe_elm.at[id, 'np_alt_ft'], text, fontsize=8,  color='blue')\n",
    "\n",
    "for elm_cas in sorted(list(set(df_doe['np_CAS_kt']))):\n",
    "    color = next(list_color_cycle)\n",
    "    df_doe_elm = df_doe[df_doe['np_CAS_kt'] == elm_cas]\n",
    "    plt.plot(df_doe_elm['np_tas_from_cas'], df_doe_elm['np_alt_ft'], color='red', label='CAS='+str(elm_cas))\n",
    "    text = '%.0f' %elm_cas\n",
    "    id = df_doe_elm.last_valid_index()\n",
    "    plt.text(df_doe_elm.at[id, 'np_tas_from_cas']-10., df_doe_elm.at[id, 'np_alt_ft']-2000., text, fontsize=8,  color='red')\n",
    "\n",
    "plt.xlabel('TAS [kt]')\n",
    "plt.ylim(0., 50000.)\n",
    "plt.grid()\n",
    "plt.ylabel('Altitude [ft]')\n",
    "str_title = \"Speed Conversions CAS / Mach to TAS f(Altitude)\"\n",
    "plt.title(str_title)\n",
    "# plt.legend(bbox_to_anchor=(1.05, 1), loc='upper left', borderaxespad=0.)"
   ]
  },
  {
   "cell_type": "code",
   "execution_count": null,
   "metadata": {},
   "outputs": [],
   "source": [
    "# Speed of Sound in kt\n",
    "uconv.ms2kt(340)"
   ]
  },
  {
   "cell_type": "code",
   "execution_count": null,
   "metadata": {},
   "outputs": [],
   "source": [
    "# CAS of Mach 0.8 at FL330\n",
    "uconv.ms2kt(atmos.mach2tas(0.8, uconv.ft2m(33000.)))"
   ]
  },
  {
   "cell_type": "code",
   "execution_count": null,
   "metadata": {},
   "outputs": [],
   "source": [
    "# Cross Over Altitude for 270kt and MA 0.78\n",
    "uconv.m2ft(atmos.crossoveralt(uconv.kt2ms(270.), 0.78)) "
   ]
  }
 ],
 "metadata": {
  "kernelspec": {
   "display_name": "amad",
   "language": "python",
   "name": "python3"
  },
  "language_info": {
   "codemirror_mode": {
    "name": "ipython",
    "version": 3
   },
   "file_extension": ".py",
   "mimetype": "text/x-python",
   "name": "python",
   "nbconvert_exporter": "python",
   "pygments_lexer": "ipython3",
   "version": "3.11.4"
  },
  "orig_nbformat": 4,
  "vscode": {
   "interpreter": {
    "hash": "c27a75877a972fd4ffb32541acc59ccd9cef959b118d80fb170eeb5fbe6fdc4c"
   }
  }
 },
 "nbformat": 4,
 "nbformat_minor": 2
}
