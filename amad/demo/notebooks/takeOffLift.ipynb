{
 "cells": [
  {
   "attachments": {},
   "cell_type": "markdown",
   "metadata": {},
   "source": [
    "# Take-Off Lift Calculation Example"
   ]
  },
  {
   "cell_type": "code",
   "execution_count": null,
   "metadata": {},
   "outputs": [],
   "source": [
    "from amad.disciplines.design.resources.aircraft_geometry_library import ac_narrow_body_long as airplane_geom\n",
    "from amad.disciplines.flight_dynamics.systems.takeOffLift import TakeOffLift"
   ]
  },
  {
   "cell_type": "code",
   "execution_count": null,
   "metadata": {},
   "outputs": [],
   "source": [
    "\"\"\"\n",
    "Problem Set-up\n",
    "\"\"\"\n",
    "liftoff = TakeOffLift('liftoff', asb_aircraft_geometry=airplane_geom(), working_directory=\"amad/disciplines/aerodynamics/temp/avl\")\n",
    "liftoff.z_altitude_takeoff = 0.\n",
    "liftoff.alpha_takeoff = 0.\n",
    "liftoff.mach_takeoff = 0.41\n",
    "\n",
    "\"\"\"\n",
    "System Performance Calculation\n",
    "\"\"\"\n",
    "\n",
    "liftoff.run_drivers()\n",
    "print(f'Takeoff lift: {liftoff.f_lift_takeoff:.0f}kg')\n",
    "\n",
    "liftoff.mach_takeoff = 0.40\n",
    "liftoff.run_drivers()\n",
    "print(f'Takeoff lift: {liftoff.f_lift_takeoff:.0f}kg')\n",
    "\n",
    "liftoff.mach_takeoff = 0.39\n",
    "liftoff.run_drivers()\n",
    "print(f'Takeoff lift: {liftoff.f_lift_takeoff:.0f}kg')\n"
   ]
  }
 ],
 "metadata": {
  "kernelspec": {
   "display_name": "amad",
   "language": "python",
   "name": "python3"
  },
  "language_info": {
   "codemirror_mode": {
    "name": "ipython",
    "version": 3
   },
   "file_extension": ".py",
   "mimetype": "text/x-python",
   "name": "python",
   "nbconvert_exporter": "python",
   "pygments_lexer": "ipython3",
   "version": "3.11.4"
  },
  "orig_nbformat": 4
 },
 "nbformat": 4,
 "nbformat_minor": 2
}
