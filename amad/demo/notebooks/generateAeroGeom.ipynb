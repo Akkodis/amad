{
 "cells": [
  {
   "attachments": {},
   "cell_type": "markdown",
   "metadata": {},
   "source": [
    "# Generate Aero Geom example"
   ]
  },
  {
   "cell_type": "code",
   "execution_count": null,
   "metadata": {},
   "outputs": [],
   "source": [
    "import json\n",
    "from amad.disciplines.design.resources.nose_geoms import dreamer_nose\n",
    "from amad.disciplines.design.resources.tail_geoms import dreamer_tail\n",
    "from amad.disciplines.design.systems.generateAeroGeom import GenerateAeroGeom\n",
    "from amad.disciplines.aerodynamics.tools.createFlightVehicle import CreateAirplane"
   ]
  },
  {
   "cell_type": "code",
   "execution_count": null,
   "metadata": {},
   "outputs": [],
   "source": [
    "ACGeom = GenerateAeroGeom('ACGeom')\n",
    "\n",
    "ACGeom.nose_def = dreamer_nose()\n",
    "ACGeom.tail_def = dreamer_tail()\n",
    "ACGeom.canard_airfoils = ['naca0010', 'naca0010']\n",
    "ACGeom.chord_canard_root = 2.5\n",
    "ACGeom.chord_htail_root = 4.195\n",
    "ACGeom.chord_vtail_root = 5.254\n",
    "ACGeom.chord_wing_root = 10\n",
    "ACGeom.delta_canard_sweep = [10]\n",
    "ACGeom.delta_htail_sweep = [30]\n",
    "ACGeom.delta_vtail_sweep = [35]\n",
    "ACGeom.delta_wing_sweep = [-25]\n",
    "ACGeom.gamma_canard_dihedral = [5]\n",
    "ACGeom.gamma_htail_dihedral = [40]\n",
    "ACGeom.gamma_vtail_dihedral = [0]\n",
    "ACGeom.gamma_wing_dihedral = [-10]\n",
    "ACGeom.h_fuse = 4.01\n",
    "ACGeom.htail_airfoils = ['naca0010', 'naca0010']\n",
    "ACGeom.n_fuse = 1\n",
    "ACGeom.n_canard_sections = 2\n",
    "ACGeom.n_htail_sections = 2\n",
    "ACGeom.n_vtail_sections = 0\n",
    "ACGeom.n_wing_sections = 2\n",
    "ACGeom.r_canard_taper = [.3]\n",
    "ACGeom.r_htail_taper = [.203]\n",
    "ACGeom.r_vtail_taper = [.271]\n",
    "ACGeom.r_wing_taper = [.129]\n",
    "ACGeom.tech_highwing = \"True\"\n",
    "ACGeom.vtail_airfoils = ['naca0010', 'naca0010']\n",
    "ACGeom.w_fuse = 3.76\n",
    "ACGeom.wing_airfoils = ['b737a', 'b737d']\n",
    "ACGeom.x_canard_span = [10]\n",
    "ACGeom.x_canard_X_le = 3\n",
    "ACGeom.x_canard_Z_le = 1\n",
    "ACGeom.x_fuse = 30.\n",
    "ACGeom.x_htail_span = [10]\n",
    "ACGeom.x_htail_offset = 0\n",
    "ACGeom.x_vtail_span = [7.16]\n",
    "ACGeom.x_vtail_offset = 0\n",
    "ACGeom.x_wing_span = [34.32]\n",
    "ACGeom.tail_length_scaling = 1\n",
    "ACGeom.ac_name = \"Test Airplane\"\n",
    "ACGeom.wing_twists = [7, 0]\n",
    "ACGeom.canard_twists = [0, 0]\n",
    "ACGeom.htail_twists = [0, 0]\n",
    "ACGeom.vtail_twists = [0, 0]\n",
    "ACGeom.d_nacelle = 1.5\n",
    "ACGeom.x_nacelle = 2.5\n",
    "ACGeom.nacelle_def = ((0, 0, 0, 1), (1, 0, 0, 1))\n",
    "ACGeom.n_eng = 2\n",
    "ACGeom.n_eng_fuse = 0\n",
    "ACGeom.n_pax = 200\n",
    "\n",
    "ACGeom.run_once()\n",
    "aero_geom = ACGeom.asb_aircraft_geometry_out\n",
    "\n",
    "test_airplane = CreateAirplane(aero_geom=aero_geom, nacelles_enabled=True, generate_airfoil_polars=False)\n",
    "test_airplane.generate()\n",
    "airplane = test_airplane.output()\n",
    "\n",
    "draw_airplane = airplane.draw(backend='plotly', show=True)\n",
    "\n",
    "print(\"Outputting aircraft definition...\")\n",
    "print(json.dumps(aero_geom, sort_keys=False, indent=4))"
   ]
  }
 ],
 "metadata": {
  "kernelspec": {
   "display_name": "amad",
   "language": "python",
   "name": "python3"
  },
  "language_info": {
   "codemirror_mode": {
    "name": "ipython",
    "version": 3
   },
   "file_extension": ".py",
   "mimetype": "text/x-python",
   "name": "python",
   "nbconvert_exporter": "python",
   "pygments_lexer": "ipython3",
   "version": "3.11.4"
  },
  "orig_nbformat": 4
 },
 "nbformat": 4,
 "nbformat_minor": 2
}
