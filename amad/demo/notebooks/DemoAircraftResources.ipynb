{
 "cells": [
  {
   "attachments": {},
   "cell_type": "markdown",
   "metadata": {},
   "source": [
    "# Demo Aircraft Resources Example"
   ]
  },
  {
   "cell_type": "code",
   "execution_count": null,
   "metadata": {},
   "outputs": [],
   "source": [
    "from cosapp.drivers import NonLinearSolver\n",
    "from amad.disciplines.design.resources.aircraft_geometry_library import ac_narrow_body_long as airplane_geom\n",
    "from amad.optimization.resources.set_parameters import single_aisle_concept\n",
    "from amad.demo.demo_aircraft_resources import CalculateAircraft"
   ]
  },
  {
   "cell_type": "code",
   "execution_count": null,
   "metadata": {},
   "outputs": [],
   "source": [
    "def print_msg(ac_sys):\n",
    "    msg = (\n",
    "        f\"Span = {ac_sys.x_wing_span[1]}m, \"\n",
    "        + f\"Total fuel = {ac_sys.mass.m_fuel_out:.0f}kg, \"\n",
    "        + f\"Cruise fuel = {ac_sys.mass.m_fuel_cruise:.0f}kg, \"\n",
    "        + f\"Thr v = {ac_sys.cruise_fuel.equi.thrust_vertical:.0f}N, \"\n",
    "        + f\"Thr h = {ac_sys.cruise_fuel.equi.thrust_horizontal:.0f}N, \"\n",
    "        + f\"Thr delta = {ac_sys.cruise_fuel.equi.thrust_delta:.0f}N, \"\n",
    "        + f\"Total lift = {ac_sys.cruise_fuel.equi.lift_aircraft:.0f}N \"\n",
    "        + f\"at {ac_sys.cruise_fuel.equi.alpha_aircraft:.3f} deg \"\n",
    "        + f\"x_fuse = {ac_sys.mass.fuse.x_fuse:.0f} \"\n",
    "        + f\"fuse mass = {ac_sys.mass.fuse.total_mass:.0f} \"\n",
    "        + f\"m_mto = {ac_sys.m_mto:.0f} \"\n",
    "        + f\"total_mass = {ac_sys.mass.total_mass:.0f} \"\n",
    "        + f\"diff_mass = {ac_sys.m_mto - ac_sys.mass.total_mass:.0f} \"\n",
    "        + f\"solver code = {calc_perf.drivers['nls'].error_code} \"\n",
    "    )\n",
    "    print(msg)\n",
    "\n",
    "tolerance = 1e-2\n",
    "calc_perf_init = CalculateAircraft('calc_perf', airplane_geom=airplane_geom())\n",
    "calc_perf = single_aisle_concept(calc_perf_init)\n",
    "calc_perf.add_driver(NonLinearSolver('nls', method='POWELL', tol=tolerance))\n",
    "calc_perf.m_fuel_climb = 2300.\n",
    "calc_perf.m_fuel_descent = 300.\n",
    "calc_perf.m_fuel_taxi = 500.\n",
    "calc_perf.mass.m_fuel_cruise = 123.\n",
    "calc_perf.z_altitude = 11582.4  # cruise altitude\n",
    "calc_perf.mach_current = .75  # cruise mach\n",
    "calc_perf.thrust_eng = 120000.\n",
    "calc_perf.n_pax = 150\n",
    "calc_perf.x_range = 5000 * 1000.  # 5000km\n",
    "\n",
    "calc_perf.run_drivers()\n",
    "print_msg(calc_perf)\n"
   ]
  }
 ],
 "metadata": {
  "kernelspec": {
   "display_name": "amad",
   "language": "python",
   "name": "python3"
  },
  "language_info": {
   "codemirror_mode": {
    "name": "ipython",
    "version": 3
   },
   "file_extension": ".py",
   "mimetype": "text/x-python",
   "name": "python",
   "nbconvert_exporter": "python",
   "pygments_lexer": "ipython3",
   "version": "3.11.4"
  },
  "orig_nbformat": 4
 },
 "nbformat": 4,
 "nbformat_minor": 2
}
