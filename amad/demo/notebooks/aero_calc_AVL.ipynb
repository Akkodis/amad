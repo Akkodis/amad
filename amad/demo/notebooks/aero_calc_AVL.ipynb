{
 "cells": [
  {
   "attachments": {},
   "cell_type": "markdown",
   "metadata": {},
   "source": [
    "# Introduction of Aero calculation point using AVL"
   ]
  },
  {
   "attachments": {},
   "cell_type": "markdown",
   "metadata": {},
   "source": [
    "This notebook demonstrates a aerodynamics calculation using AVL."
   ]
  },
  {
   "cell_type": "code",
   "execution_count": null,
   "metadata": {},
   "outputs": [],
   "source": [
    "from amad.disciplines.design.resources.aircraft_geometry_library import ac_narrow_body_long as airplane_geom\n",
    "import time\n",
    "import pandas\n",
    "import plotly.express as px\n",
    "from amad.disciplines.aerodynamics.systems.aerocalculateAVL import AeroCalculateAVL\n",
    "import numpy"
   ]
  },
  {
   "cell_type": "code",
   "execution_count": null,
   "metadata": {},
   "outputs": [],
   "source": [
    "aercal_avl = AeroCalculateAVL('aercal_avl', asb_aircraft_geometry=airplane_geom(), debug=False,)\n",
    "alpha_list = list(numpy.linspace(-10, 10, 30))\n",
    "aercal_avl.alpha_aircraft = alpha_list\n",
    "aercal_avl.beta_aircraft = 0.\n",
    "aercal_avl.z_altitude = [11000.]\n",
    "aercal_avl.mach_current = [0.8]\n",
    "\n",
    "start_time = time.perf_counter()\n",
    "aercal_avl.run_drivers()\n",
    "end_time = time.perf_counter()\n",
    "total_time = end_time - start_time\n",
    "time_per_case = total_time / (len(alpha_list) * len(aercal_avl.z_altitude) * len(aercal_avl.mach_current))\n",
    "\n",
    "result_df = pandas.DataFrame.from_dict(aercal_avl.raw_parameters).transpose()\n",
    "print(result_df)\n",
    "print(f'total time = {total_time:.2f}')\n",
    "print(f'time per run = {time_per_case:.4f}')\n",
    "\n",
    "cl_list_avl = []\n",
    "cd_list_avl = []\n",
    "\n",
    "for i in aercal_avl.raw_parameters:\n",
    "    cl_list_avl.append(aercal_avl.raw_parameters[i]['CL'])\n",
    "    cd_list_avl.append(aercal_avl.raw_parameters[i]['CD'])\n",
    "\n",
    "fig = px.line(x=cd_list_avl, y=cl_list_avl, title=f'{airplane_geom()[\"ac_name\"]} CL vs CD')\n",
    "\n",
    "fig.update_traces(showlegend=True)\n",
    "fig.show()"
   ]
  }
 ],
 "metadata": {
  "kernelspec": {
   "display_name": "amad",
   "language": "python",
   "name": "python3"
  },
  "language_info": {
   "codemirror_mode": {
    "name": "ipython",
    "version": 3
   },
   "file_extension": ".py",
   "mimetype": "text/x-python",
   "name": "python",
   "nbconvert_exporter": "python",
   "pygments_lexer": "ipython3",
   "version": "3.11.4"
  },
  "orig_nbformat": 4,
  "vscode": {
   "interpreter": {
    "hash": "c27a75877a972fd4ffb32541acc59ccd9cef959b118d80fb170eeb5fbe6fdc4c"
   }
  }
 },
 "nbformat": 4,
 "nbformat_minor": 2
}
