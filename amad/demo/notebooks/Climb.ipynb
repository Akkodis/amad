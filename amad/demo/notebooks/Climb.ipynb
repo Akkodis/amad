{
 "cells": [
  {
   "attachments": {},
   "cell_type": "markdown",
   "metadata": {},
   "source": [
    "# Climb Example"
   ]
  },
  {
   "cell_type": "code",
   "execution_count": 3,
   "metadata": {},
   "outputs": [],
   "source": [
    "# from cosapp.drivers import EulerExplicit, RungeKutta, NonLinearSolver, RunSingleCase\n",
    "from cosapp.recorders import DataFrameRecorder\n",
    "import amad.disciplines.aerodynamics.tools.createAeroInterpolationCSV as aeroInterp  # Tool to create the function to Interpolate.\n",
    "from cosapp.drivers import RungeKutta, NonLinearSolver\n",
    "from amad.disciplines.performance.systems.Climb import Climb_segment\n",
    "import numpy as np\n",
    "import amad.tools.unit_conversion as uc"
   ]
  },
  {
   "cell_type": "code",
   "execution_count": 11,
   "metadata": {},
   "outputs": [
    {
     "ename": "ArithmeticError",
     "evalue": "The solver failed: Singular 1x1 Jacobian matrix",
     "output_type": "error",
     "traceback": [
      "\u001b[0;31m---------------------------------------------------------------------------\u001b[0m",
      "\u001b[0;31mArithmeticError\u001b[0m                           Traceback (most recent call last)",
      "Cell \u001b[0;32mIn[11], line 56\u001b[0m\n\u001b[1;32m     44\u001b[0m \u001b[39m# Define a simulation scenario\u001b[39;00m\n\u001b[1;32m     45\u001b[0m driver\u001b[39m.\u001b[39mset_scenario(\n\u001b[1;32m     46\u001b[0m     init \u001b[39m=\u001b[39m {\u001b[39m'\u001b[39m\u001b[39mCS\u001b[39m\u001b[39m'\u001b[39m: CS_0, \u001b[39m'\u001b[39m\u001b[39min_p.position\u001b[39m\u001b[39m'\u001b[39m: p_0, \u001b[39m'\u001b[39m\u001b[39mg\u001b[39m\u001b[39m'\u001b[39m: \u001b[39m9.81\u001b[39m, \u001b[39m'\u001b[39m\u001b[39mm0\u001b[39m\u001b[39m'\u001b[39m: m_0},  \u001b[39m#\u001b[39;00m\n\u001b[1;32m     47\u001b[0m     values \u001b[39m=\u001b[39m {\n\u001b[0;32m   (...)\u001b[0m\n\u001b[1;32m     53\u001b[0m     },\n\u001b[1;32m     54\u001b[0m )\n\u001b[0;32m---> 56\u001b[0m s1\u001b[39m.\u001b[39;49mrun_drivers()\n\u001b[1;32m     57\u001b[0m data \u001b[39m=\u001b[39m driver\u001b[39m.\u001b[39mrecorder\u001b[39m.\u001b[39mexport_data()\n",
      "File \u001b[0;32m~/.conda/envs/amad/lib/python3.10/site-packages/cosapp/systems/system.py:2158\u001b[0m, in \u001b[0;36mSystem.run_drivers\u001b[0;34m(self)\u001b[0m\n\u001b[1;32m   2156\u001b[0m     \u001b[39mfor\u001b[39;00m driver \u001b[39min\u001b[39;00m \u001b[39mself\u001b[39m\u001b[39m.\u001b[39mdrivers\u001b[39m.\u001b[39mvalues():\n\u001b[1;32m   2157\u001b[0m         logger\u001b[39m.\u001b[39mdebug(\u001b[39mf\u001b[39m\u001b[39m\"\u001b[39m\u001b[39mCall driver \u001b[39m\u001b[39m{\u001b[39;00mdriver\u001b[39m.\u001b[39mname\u001b[39m}\u001b[39;00m\u001b[39m.run_once on \u001b[39m\u001b[39m{\u001b[39;00m\u001b[39mself\u001b[39m\u001b[39m.\u001b[39mname\u001b[39m}\u001b[39;00m\u001b[39m\"\u001b[39m)\n\u001b[0;32m-> 2158\u001b[0m         driver\u001b[39m.\u001b[39;49mrun_once()\n\u001b[1;32m   2159\u001b[0m \u001b[39melse\u001b[39;00m:\n\u001b[1;32m   2160\u001b[0m     \u001b[39mself\u001b[39m\u001b[39m.\u001b[39mrun_children_drivers()\n",
      "File \u001b[0;32m~/.conda/envs/amad/lib/python3.10/site-packages/cosapp/drivers/time/interfaces.py:217\u001b[0m, in \u001b[0;36mExplicitTimeDriver.run_once\u001b[0;34m(self)\u001b[0m\n\u001b[1;32m    215\u001b[0m logger\u001b[39m.\u001b[39mdebug(\u001b[39mf\u001b[39m\u001b[39m\"\u001b[39m\u001b[39mCall \u001b[39m\u001b[39m{\u001b[39;00m\u001b[39mself\u001b[39m\u001b[39m.\u001b[39mname\u001b[39m}\u001b[39;00m\u001b[39m.compute\u001b[39m\u001b[39m\"\u001b[39m)\n\u001b[1;32m    216\u001b[0m \u001b[39mself\u001b[39m\u001b[39m.\u001b[39m_compute_calls \u001b[39m+\u001b[39m\u001b[39m=\u001b[39m \u001b[39m1\u001b[39m\n\u001b[0;32m--> 217\u001b[0m \u001b[39mself\u001b[39;49m\u001b[39m.\u001b[39;49mcompute()\n\u001b[1;32m    219\u001b[0m \u001b[39mself\u001b[39m\u001b[39m.\u001b[39m_postcompute()\n\u001b[1;32m    220\u001b[0m \u001b[39mself\u001b[39m\u001b[39m.\u001b[39mcomputed\u001b[39m.\u001b[39memit()\n",
      "File \u001b[0;32m~/.conda/envs/amad/lib/python3.10/site-packages/cosapp/drivers/time/interfaces.py:283\u001b[0m, in \u001b[0;36mExplicitTimeDriver.compute\u001b[0;34m(self)\u001b[0m\n\u001b[1;32m    281\u001b[0m n_record \u001b[39m=\u001b[39m \u001b[39m0\u001b[39m\n\u001b[1;32m    282\u001b[0m prev_dt \u001b[39m=\u001b[39m \u001b[39mNone\u001b[39;00m\n\u001b[0;32m--> 283\u001b[0m \u001b[39mself\u001b[39;49m\u001b[39m.\u001b[39;49m_set_time(t0)\n\u001b[1;32m    285\u001b[0m stepper \u001b[39m=\u001b[39m \u001b[39mself\u001b[39m\u001b[39m.\u001b[39m__stepper\n\u001b[1;32m    286\u001b[0m manager \u001b[39m=\u001b[39m \u001b[39mself\u001b[39m\u001b[39m.\u001b[39m__var_manager\n",
      "File \u001b[0;32m~/.conda/envs/amad/lib/python3.10/site-packages/cosapp/drivers/time/interfaces.py:411\u001b[0m, in \u001b[0;36mExplicitTimeDriver._set_time\u001b[0;34m(self, t)\u001b[0m\n\u001b[1;32m    409\u001b[0m \u001b[39mself\u001b[39m\u001b[39m.\u001b[39m__clock\u001b[39m.\u001b[39mtime \u001b[39m=\u001b[39m t\n\u001b[1;32m    410\u001b[0m \u001b[39mself\u001b[39m\u001b[39m.\u001b[39m__scenario\u001b[39m.\u001b[39mupdate_values()\n\u001b[0;32m--> 411\u001b[0m \u001b[39mself\u001b[39;49m\u001b[39m.\u001b[39;49m_update_children()\n\u001b[1;32m    412\u001b[0m \u001b[39mself\u001b[39m\u001b[39m.\u001b[39m_update_rates(dt)\n",
      "File \u001b[0;32m~/.conda/envs/amad/lib/python3.10/site-packages/cosapp/drivers/time/interfaces.py:452\u001b[0m, in \u001b[0;36mExplicitTimeDriver._update_children\u001b[0;34m(self)\u001b[0m\n\u001b[1;32m    450\u001b[0m \u001b[39mif\u001b[39;00m \u001b[39mlen\u001b[39m(\u001b[39mself\u001b[39m\u001b[39m.\u001b[39mchildren) \u001b[39m>\u001b[39m \u001b[39m0\u001b[39m:\n\u001b[1;32m    451\u001b[0m     \u001b[39mfor\u001b[39;00m name \u001b[39min\u001b[39;00m \u001b[39mself\u001b[39m\u001b[39m.\u001b[39mexec_order:\n\u001b[0;32m--> 452\u001b[0m         \u001b[39mself\u001b[39;49m\u001b[39m.\u001b[39;49mchildren[name]\u001b[39m.\u001b[39;49mrun_once()\n\u001b[1;32m    453\u001b[0m \u001b[39melse\u001b[39;00m:\n\u001b[1;32m    454\u001b[0m     \u001b[39mself\u001b[39m\u001b[39m.\u001b[39mowner\u001b[39m.\u001b[39mrun_children_drivers()\n",
      "File \u001b[0;32m~/.conda/envs/amad/lib/python3.10/site-packages/cosapp/drivers/abstractsolver.py:173\u001b[0m, in \u001b[0;36mAbstractSolver.run_once\u001b[0;34m(self)\u001b[0m\n\u001b[1;32m    171\u001b[0m logger\u001b[39m.\u001b[39mdebug(\u001b[39mf\u001b[39m\u001b[39m\"\u001b[39m\u001b[39mCall \u001b[39m\u001b[39m{\u001b[39;00m\u001b[39mself\u001b[39m\u001b[39m.\u001b[39mname\u001b[39m}\u001b[39;00m\u001b[39m.compute()\u001b[39m\u001b[39m\"\u001b[39m)\n\u001b[1;32m    172\u001b[0m \u001b[39mself\u001b[39m\u001b[39m.\u001b[39m_compute_calls \u001b[39m+\u001b[39m\u001b[39m=\u001b[39m \u001b[39m1\u001b[39m\n\u001b[0;32m--> 173\u001b[0m \u001b[39mself\u001b[39;49m\u001b[39m.\u001b[39;49mcompute()\n\u001b[1;32m    175\u001b[0m \u001b[39mself\u001b[39m\u001b[39m.\u001b[39m_postcompute()\n\u001b[1;32m    176\u001b[0m \u001b[39mself\u001b[39m\u001b[39m.\u001b[39mcomputed\u001b[39m.\u001b[39memit()\n",
      "File \u001b[0;32m~/.conda/envs/amad/lib/python3.10/site-packages/cosapp/drivers/nonlinearsolver.py:393\u001b[0m, in \u001b[0;36mNonLinearSolver.compute\u001b[0;34m(self)\u001b[0m\n\u001b[1;32m    387\u001b[0m         error_msg \u001b[39m+\u001b[39m\u001b[39m=\u001b[39m (\n\u001b[1;32m    388\u001b[0m             \u001b[39mf\u001b[39m\u001b[39m\"\u001b[39m\u001b[39m \u001b[39m\u001b[39m\\n\u001b[39;00m\u001b[39mThe \u001b[39m\u001b[39m{\u001b[39;00m\u001b[39mlen\u001b[39m(indices)\u001b[39m}\u001b[39;00m\u001b[39m following residue(s)\u001b[39m\u001b[39m\"\u001b[39m\n\u001b[1;32m    389\u001b[0m             \u001b[39mf\u001b[39m\u001b[39m\"\u001b[39m\u001b[39m are not influenced: \u001b[39m\u001b[39m{\u001b[39;00mequation_names\u001b[39m}\u001b[39;00m\u001b[39m\"\u001b[39m\n\u001b[1;32m    390\u001b[0m         )\n\u001b[1;32m    392\u001b[0m \u001b[39mif\u001b[39;00m \u001b[39mself\u001b[39m\u001b[39m.\u001b[39mparent \u001b[39mis\u001b[39;00m \u001b[39mnot\u001b[39;00m \u001b[39mNone\u001b[39;00m:\n\u001b[0;32m--> 393\u001b[0m     \u001b[39mraise\u001b[39;00m \u001b[39mArithmeticError\u001b[39;00m(error_msg)\n\u001b[1;32m    394\u001b[0m \u001b[39melse\u001b[39;00m:\n\u001b[1;32m    395\u001b[0m     logger\u001b[39m.\u001b[39merror(error_msg)\n",
      "\u001b[0;31mArithmeticError\u001b[0m: The solver failed: Singular 1x1 Jacobian matrix"
     ]
    }
   ],
   "source": [
    "\"\"\"Aerodynamic inputs\"\"\"\n",
    "# Directory to the Aero results in CSV in order to build the interpolation functions.\n",
    "Aero_CSV = r'amad/disciplines/aerodynamics/tools/Results/aero_results.csv'\n",
    "\n",
    "# Ranges to create CL and CD interpolation functions from AVL Aero Results (CSV file).\n",
    "# REMARK: To maintain units, array and split format to the values must correlate to the CSV file results.\n",
    "alpha_list = list(np.arange(-6.0, 10.0, 2))  # unit='deg', desc='Range of AOA to create functions')\n",
    "mach_list = list(np.arange(0.0, 0.84, 0.04))  # unit='', desc='Range of Mach to create functions')\n",
    "altitude_list = list(np.arange(0.0, 13000, 500))  # unit='m', desc='Range of altitude to create functions')\n",
    "\n",
    "# Creation of functions for the aerodynamic coefficients interpolation.\n",
    "CLAeroIt = aeroInterp.CL_Interpolation_function(alpha_list, mach_list, altitude_list, Aero_CSV)\n",
    "CDAeroIt = aeroInterp.CD_Interpolation_function(alpha_list, mach_list, altitude_list, Aero_CSV)\n",
    "DAeroIt = aeroInterp.Drag_Interpolation_function(alpha_list, mach_list, altitude_list, Aero_CSV)\n",
    "\n",
    "s1 = Climb_segment(name='s1')\n",
    "s1.CLAeroIt = CLAeroIt\n",
    "s1.CDAeroIt = CDAeroIt\n",
    "s1.DAeroIt = DAeroIt\n",
    "\n",
    "driver = s1.add_driver(RungeKutta())\n",
    "solver = driver.add_child(NonLinearSolver('solver'))\n",
    "driver.time_interval = (0, 10000)\n",
    "driver.dt = 2\n",
    "Data_to_record = [\n",
    "    'Altitude', 'CD', 'CL',\n",
    "    'Distance', 'Drag', 'Lift',\n",
    "    'Mach', 'RC', 'TAS', 'CAS',\n",
    "    'THR', 'alpha', 'gamma', 'theta',\n",
    "    'mass', 'out_p.fuel_mass', 'time']\n",
    "\n",
    "# Add a recorder to capture time evolution in a dataframe\n",
    "driver.add_recorder(\n",
    "    DataFrameRecorder(\n",
    "        includes = Data_to_record,\n",
    "    ), period=10\n",
    ")\n",
    "\n",
    "# Initial conditions\n",
    "p_0 = np.array([0.0, 0.0, 437.0])  # Position [m]\n",
    "CS_0 = np.array([0.0])  # Fuel consumption rate [kg/s]\n",
    "m_0 = np.array([68000])  # mass [kg]\n",
    "\n",
    "# Define a simulation scenario\n",
    "driver.set_scenario(\n",
    "    init = {'CS': CS_0, 'in_p.position': p_0, 'g': 9.81, 'm0': m_0},  #\n",
    "    values = {\n",
    "        'CAS': uc.kt2ms(250),  # [kt]\n",
    "        'Iso_Mach': 0.75,\n",
    "        'cruise_altitude': 10668,  # m\n",
    "        'S': 124,  # [m^2]\n",
    "        'n_eng': 2,\n",
    "    },\n",
    ")\n",
    "\n",
    "s1.run_drivers()\n",
    "data = driver.recorder.export_data()\n"
   ]
  },
  {
   "cell_type": "code",
   "execution_count": null,
   "metadata": {},
   "outputs": [],
   "source": []
  }
 ],
 "metadata": {
  "kernelspec": {
   "display_name": "amad",
   "language": "python",
   "name": "python3"
  },
  "language_info": {
   "codemirror_mode": {
    "name": "ipython",
    "version": 3
   },
   "file_extension": ".py",
   "mimetype": "text/x-python",
   "name": "python",
   "nbconvert_exporter": "python",
   "pygments_lexer": "ipython3",
   "version": "3.10.0"
  },
  "orig_nbformat": 4
 },
 "nbformat": 4,
 "nbformat_minor": 2
}
