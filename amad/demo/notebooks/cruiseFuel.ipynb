{
 "cells": [
  {
   "attachments": {},
   "cell_type": "markdown",
   "metadata": {},
   "source": [
    "# Cruise Fuel example"
   ]
  },
  {
   "cell_type": "code",
   "execution_count": null,
   "metadata": {},
   "outputs": [],
   "source": [
    "from cosapp.drivers import NonLinearSolver\n",
    "from amad.disciplines.design.resources.aircraft_geometry_library import ac_narrow_body_long as airplane_geom\n",
    "import time\n",
    "from amad.disciplines.performance.systems.cruiseFuel import CruiseFuel"
   ]
  },
  {
   "cell_type": "code",
   "execution_count": null,
   "metadata": {},
   "outputs": [],
   "source": [
    "\n",
    "crzfuel = CruiseFuel('crzfuel', asb_aircraft_geometry=airplane_geom())\n",
    "crzfuel.z_altitude = 8000.\n",
    "crzfuel.mach_current = .7\n",
    "crzfuel.thrust_eng = 120000.\n",
    "crzfuel.x_range = 5000 * 1000.\n",
    "crzfuel.m_mto = 50000.\n",
    "\n",
    "crzfuel.add_driver(NonLinearSolver('nls'))\n",
    "\n",
    "st = time.perf_counter()\n",
    "crzfuel.run_drivers()\n",
    "et = time.perf_counter()\n",
    "\n",
    "print(f'calculation time={et-st:.1f} alt[ft]={crzfuel.z_altitude / .3048:.0f} cruise segment fuel req [kg] = {crzfuel.m_fuel_cruise.mass:.0f} at vtas [m/s]={crzfuel.v_tas:.1f}')\n"
   ]
  }
 ],
 "metadata": {
  "kernelspec": {
   "display_name": "amad",
   "language": "python",
   "name": "python3"
  },
  "language_info": {
   "codemirror_mode": {
    "name": "ipython",
    "version": 3
   },
   "file_extension": ".py",
   "mimetype": "text/x-python",
   "name": "python",
   "nbconvert_exporter": "python",
   "pygments_lexer": "ipython3",
   "version": "3.10.0"
  },
  "orig_nbformat": 4
 },
 "nbformat": 4,
 "nbformat_minor": 2
}
